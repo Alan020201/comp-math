{
  "cells": [
    {
      "cell_type": "markdown",
      "metadata": {
        "id": "l6gRjtKzFpui"
      },
      "source": [
        "## Python Workshop 1 Exercises"
      ]
    },
    {
      "cell_type": "markdown",
      "metadata": {
        "id": "NNID4fCDFpuo"
      },
      "source": [
        "<div class=\"alert alert-block alert-info\">\n",
        "<font color=\"black\">Suppose we don’t know the formula for the sum and want to use a “brute force” approach.  We can calculate the sum <i>1 + 2 + ... + n</i>  using a loop:</font> </div>"
      ]
    },
    {
      "cell_type": "markdown",
      "metadata": {
        "id": "eAoKnvvrFpuq"
      },
      "source": [
        "<code>sum1n = 0\n",
        "i = 1\n",
        "while i <= n:\n",
        "    sum1n += i  # same as sum1n = sum1n + i\n",
        "    i += 1 </code>"
      ]
    },
    {
      "cell_type": "markdown",
      "metadata": {
        "id": "tj0pAINLFpur"
      },
      "source": [
        "<div class=\"alert alert-block alert-info\"><font color=\"black\">This loop can also be nested within another loop to calculate a series of numbers:</font></div>"
      ]
    },
    {
      "cell_type": "markdown",
      "metadata": {
        "id": "Qp_xAi57Fpus"
      },
      "source": [
        "<code>## Sums1toN program\n",
        "nMax = 10\n",
        "n = 1\n",
        "while n <= nMax:\n",
        "    sum1n = 0\n",
        "    i = 1\n",
        "    while i <= n:\n",
        "        sum1n += i\n",
        "        i += 1\n",
        "    print('{0:3d} {1:6d}'.format(n, sum1n))\n",
        "    n += 1 </code>"
      ]
    },
    {
      "cell_type": "markdown",
      "metadata": {
        "id": "CuTGjNxFFpus"
      },
      "source": [
        "<div class=\"alert alert-block alert-info\"><font color=\"black\">Type in the little program above into the cell below.  To run it select the cell and then press the <b>run-button</b> from the button bar above. Test the program and ensure it runs correctly.</font></div>"
      ]
    },
    {
      "cell_type": "code",
      "execution_count": null,
      "metadata": {
        "colab": {
          "base_uri": "https://localhost:8080/"
        },
        "id": "KQS02LrkFput",
        "outputId": "76b9b3bf-e1f1-44f7-87ef-c0ceb22ad3ab"
      },
      "outputs": [
        {
          "name": "stdout",
          "output_type": "stream",
          "text": [
            "  1      1\n",
            "  2      3\n",
            "  3      6\n",
            "  4     10\n",
            "  5     15\n",
            "  6     21\n",
            "  7     28\n",
            "  8     36\n",
            "  9     45\n",
            " 10     55\n"
          ]
        }
      ],
      "source": [
        "nMax = 10\n",
        "n = 1\n",
        "while n <= nMax:\n",
        "    sum1n = 0\n",
        "    i = 1\n",
        "    while i <= n:\n",
        "        sum1n += i\n",
        "        i += 1\n",
        "    print('{0:3d} {1:6d}'.format(n, sum1n))\n",
        "    n += 1 "
      ]
    },
    {
      "cell_type": "markdown",
      "metadata": {
        "id": "FPF-E_7CFpuv"
      },
      "source": [
        "<div class=\"alert alert-block alert-danger\">\n",
        "Now try to write the Python code to answer the following questions in the cells below \n",
        "</div>"
      ]
    },
    {
      "cell_type": "markdown",
      "metadata": {
        "id": "tEyVhZ9IFpuv"
      },
      "source": [
        "#### <font color=\"red\"><b>1.</b></font> Modify the Sums1toN.py program to accept only an odd positive integer nMax from the user and print the sums of positive odd integers for *n = 1, 3, ..., nMax.*"
      ]
    },
    {
      "cell_type": "code",
      "execution_count": null,
      "metadata": {
        "colab": {
          "base_uri": "https://localhost:8080/"
        },
        "id": "rmDaiaFfFpuw",
        "outputId": "1a500c1a-969f-41d0-9e00-1f2a6ede1480"
      },
      "outputs": [
        {
          "name": "stdout",
          "output_type": "stream",
          "text": [
            "Please enter an odd integer 7\n",
            "  1      1\n",
            "  3      6\n",
            "  5     15\n",
            "  7     28\n"
          ]
        }
      ],
      "source": []
    },
    {
      "cell_type": "markdown",
      "metadata": {
        "id": "H-0KtUDjFpux"
      },
      "source": [
        "#### <font color=\"red\"><b>2.</b></font> Write a program that prompts the user for a positive integer n and prints all positive multiples of 6 *ie. (6, 12, 18, etc.)* that do not exceed n."
      ]
    },
    {
      "cell_type": "code",
      "execution_count": null,
      "metadata": {
        "colab": {
          "base_uri": "https://localhost:8080/"
        },
        "id": "OHVKTcUOFpux",
        "outputId": "de31fd85-457b-4b6f-a31c-6451e8b1be1b"
      },
      "outputs": [
        {
          "name": "stdout",
          "output_type": "stream",
          "text": [
            "Please enter positive integer 49\n",
            "  0\n",
            "  6\n",
            " 12\n",
            " 18\n",
            " 24\n",
            " 30\n",
            " 36\n",
            " 42\n",
            " 48\n"
          ]
        }
      ],
      "source": []
    },
    {
      "cell_type": "markdown",
      "metadata": {
        "id": "t2n0vOCjFpuy"
      },
      "source": [
        "#### <font color=\"red\"><b>3.</b></font> Using Sums1toN.py as a prototype, write a program that prompts the user to enter a positive integer nMax and displays n and n! (n-factorial) for n from 1 to nMax.   .  "
      ]
    },
    {
      "cell_type": "code",
      "execution_count": null,
      "metadata": {
        "colab": {
          "base_uri": "https://localhost:8080/"
        },
        "id": "bvoK2e5IFpuy",
        "outputId": "7da69498-a782-445f-e210-35593021994c"
      },
      "outputs": [
        {
          "name": "stdout",
          "output_type": "stream",
          "text": [
            "Enter the number to find it's factorial: 7\n",
            "  0!      1\n",
            "  1!      1\n",
            "  2!      2\n",
            "  3!      6\n",
            "  4!     24\n",
            "  5!    120\n",
            "  6!    720\n",
            "  7!   5040\n"
          ]
        }
      ],
      "source": []
    },
    {
      "cell_type": "markdown",
      "metadata": {
        "id": "m4JnEfqxFpuz"
      },
      "source": [
        "<div class=\"alert alert-block alert-danger\"><b>Note:</b> most of the programs for this module do not require you to use the <i>input</i> statement to load data into your code. To avoid loosing marks (for over use of the input statement) You should only use input statements where the question includes the phrases like <font color=\"red\"><i>\"prompts the user..\"</i></font>, <font color=\"red\"><i>\"from the user..\"</i></font> or <font color=\"red\"><i>\"ask the user..\"</i></font>. <b>ie. for questions 4,5 & 6 hard code the data in the program</b></div>"
      ]
    },
    {
      "cell_type": "markdown",
      "metadata": {
        "id": "Qwh-dp4FFpuz"
      },
      "source": [
        "#### <font color=\"red\"><b>4.</b></font> Write a program that prints n, $ s_{1}(n)=\\sum \\limits _{k=1} ^{n} k $ , $ s_{2}(n)=\\sum \\limits _{k=1} ^{n} k ^{2} $ , and  $ \\frac{3s_{2}(n)}{s_{1}(n)} $ for n = 1, 2, 3, ..., 20.  Try to guess the general formula for  $ \\sum \\limits _{k=1} ^{n} k ^{2} $ from the resulting table."
      ]
    },
    {
      "cell_type": "code",
      "execution_count": null,
      "metadata": {
        "id": "xqkMjTInFpuz"
      },
      "outputs": [],
      "source": []
    },
    {
      "cell_type": "markdown",
      "metadata": {
        "id": "6DtmF17_Fpu0"
      },
      "source": [
        "#### <font color=\"red\"><b>5.</b></font> Write a function printSquare(n) that displays a “square” whose side has n stars.  For example, for n = 5, the output should be: "
      ]
    },
    {
      "cell_type": "markdown",
      "metadata": {
        "id": "GrsA----Fpu0"
      },
      "source": [
        "`*****`<br>\n",
        "`*   *`<br>\n",
        "`*   *`<br>\n",
        "`*   *`<br>\n",
        "`*****`<br>"
      ]
    },
    {
      "cell_type": "markdown",
      "metadata": {
        "id": "45UfRfTrFpu1"
      },
      "source": [
        "##### Use only one while loop.  (Actually, in Python, you can write this function without any loops, on one line.  Can you figure out how?) "
      ]
    },
    {
      "cell_type": "code",
      "execution_count": null,
      "metadata": {
        "id": "f7J1RyVaFpu2"
      },
      "outputs": [],
      "source": []
    },
    {
      "cell_type": "markdown",
      "metadata": {
        "id": "CtoUm-sTFpu3"
      },
      "source": [
        "#### <font color=\"red\"><b>6.</b></font> Write a function <i>myPow(x, n)</i> that returns $x ^{n}$, where   and n is a non-negative integer.  Do not use the ** operator or the math.pow function — use one <i>while</i> loop.  Hint:  $ x ^{0} = 1 $.  "
      ]
    },
    {
      "cell_type": "code",
      "execution_count": null,
      "metadata": {
        "colab": {
          "base_uri": "https://localhost:8080/"
        },
        "id": "tkmJRYRjFpu3",
        "outputId": "1bda2e6f-7b21-4588-e6e4-71a5ba157bfb"
      },
      "outputs": [
        {
          "data": {
            "text/plain": [
              "16"
            ]
          },
          "execution_count": 28,
          "metadata": {},
          "output_type": "execute_result"
        }
      ],
      "source": []
    },
    {
      "cell_type": "markdown",
      "metadata": {
        "id": "TJgoW7rjFpu4"
      },
      "source": [
        "### Downloading your workbook"
      ]
    },
    {
      "cell_type": "markdown",
      "metadata": {
        "id": "nplxlGbuFpu5"
      },
      "source": [
        "Please note even if you are Jupyter on your computer (ie. not on a network) the Jupyter notebook runs as a server, so you are not running and editing a file on your filing system. So to obtain your workbook (to use on a different computer or upload as an assignment, etc.) it must be downloaded to your file system. To do this...  "
      ]
    },
    {
      "cell_type": "markdown",
      "metadata": {
        "id": "0R070l6bFpu6"
      },
      "source": [
        "<div class=\"alert alert-block alert-info\">Goto the <b>\"File\"</b> menu and select the <b>\"Download as\"</b> item. You can then select <b>\"notebook (ipynb)\"</b> to download.</div>"
      ]
    }
  ],
  "metadata": {
    "colab": {
      "provenance": []
    },
    "kernelspec": {
      "display_name": "Python 3",
      "language": "python",
      "name": "python3"
    },
    "language_info": {
      "codemirror_mode": {
        "name": "ipython",
        "version": 3
      },
      "file_extension": ".py",
      "mimetype": "text/x-python",
      "name": "python",
      "nbconvert_exporter": "python",
      "pygments_lexer": "ipython3",
      "version": "3.8.8"
    }
  },
  "nbformat": 4,
  "nbformat_minor": 0
}
