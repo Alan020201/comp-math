{
  "nbformat": 4,
  "nbformat_minor": 0,
  "metadata": {
    "colab": {
      "provenance": []
    },
    "kernelspec": {
      "name": "python3",
      "display_name": "Python 3"
    },
    "language_info": {
      "name": "python"
    }
  },
  "cells": [
    {
      "cell_type": "markdown",
      "source": [
        "task 3 and 4 \n",
        "Plot 20 X,Y values of the functions\n",
        "1) f(x) = 5x\n",
        "3 + 2x - 1\n",
        "2) f(x) = -2x\n",
        "3\n",
        "- x2 + 100\n",
        "3) f(x) = 2πx + 20\n",
        "Create a graph that has all of the lines from Task 3 on the same graph."
      ],
      "metadata": {
        "id": "Bt4VmYvwMWtU"
      }
    },
    {
      "cell_type": "code",
      "source": [
        "import matplotlib.pyplot as plt\n",
        "import numpy as np\n",
        "import panda as pd\n",
        "import math\n",
        "x = np.linspace(1,20,num=20)\n",
        "def graph(x):\n",
        "  y=[]\n",
        "  for i in range (len(x))\n",
        "  m = 5*x[i]**3+2*x -1\n",
        "  y.append(m)\n",
        "  return y\n",
        "def graph1(x):\n",
        "  y=[]\n",
        "  for i in range (len(x))\n",
        "  m = -2*x[i]**3 = x*2 +100\n",
        "  y.append(m)\n",
        "  return y\n",
        "def graph2(x):\n",
        "  y=[]\n",
        "  for i in range (len(x))\n",
        "  m = 2*math.pix[i = 20]\n",
        "  y.append(m)\n",
        "  return y\n",
        "plt.plot(x,graph(x))\n",
        "plt.grid()\n",
        "plt.show\n",
        "\n",
        "plt.plot(x,graph1(x))\n",
        "plt.grid()\n",
        "plt.show\n",
        "\n",
        "plt.plot(x,graph2(x))\n",
        "plt.grid()\n",
        "plt.show"
      ],
      "metadata": {
        "id": "Y6Oqpq8HMhA7"
      },
      "execution_count": null,
      "outputs": []
    }
  ]
}