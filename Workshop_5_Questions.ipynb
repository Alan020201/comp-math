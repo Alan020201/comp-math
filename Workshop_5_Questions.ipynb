{
  "nbformat": 4,
  "nbformat_minor": 0,
  "metadata": {
    "colab": {
      "provenance": []
    },
    "kernelspec": {
      "name": "python3",
      "display_name": "Python 3"
    },
    "language_info": {
      "name": "python"
    }
  },
  "cells": [
    {
      "cell_type": "markdown",
      "source": [
        "## Plotting Graph with Python and MatPlotLib Library\n",
        "\n",
        "Matplotlib is a plotting library for the Python programming language and its numerical mathematics extension NumPy."
      ],
      "metadata": {
        "id": "ZKbfkY0CtGI_"
      }
    },
    {
      "cell_type": "markdown",
      "source": [
        "Installing Matplot Library:\n",
        "**$ pip install matplotlib**\n",
        "\n",
        "*pip is the Python Package Manager for installing library hosted in pypi.org"
      ],
      "metadata": {
        "id": "lzN5KfCDtjdG"
      }
    },
    {
      "cell_type": "markdown",
      "source": [
        "**Python Graphs Extra Tasks for Week-5 in Computational Mathematics (4MM013).**\n",
        "\n",
        "1.  Line Plot,\n",
        "2.  X-Y Plot,\n",
        "3. Scatter Plot,\n",
        "4. Bar plot,\n",
        "5. Histogram,\n",
        "6. Pie-Chart,\n",
        "7. Sub-plot,\n",
        "8. Titles and Axis-Labels,\n",
        "9. Legends, and\n",
        "10. Save Plot as Image Files.\n",
        "\n",
        "\n",
        "\n"
      ],
      "metadata": {
        "id": "Dq5UKtLyuAx7"
      }
    },
    {
      "cell_type": "markdown",
      "source": [
        "**Remember : To use the functions or variables of library, we import that library.**"
      ],
      "metadata": {
        "id": "4YsKElLxu-hr"
      }
    },
    {
      "cell_type": "markdown",
      "source": [
        "1. Create a simple line plot with Pyplot by plotting the ‘data’ list of values against the corresponding indexes ( 0 to 7).\n",
        "\n",
        "\n",
        "Take : data = [3, 6, 9, 12, 15, 18, 21, 24]\n"
      ],
      "metadata": {
        "id": "6M5tHDFWvWC1"
      }
    },
    {
      "cell_type": "code",
      "source": [
        "import matplotlib.pyplot as plt \n",
        "data = [3, 6, 9, 12, 15, 18, 21, 24]\n",
        "x = list (range(len(data)))"
      ],
      "metadata": {
        "id": "jodxYLmvtta1"
      },
      "execution_count": null,
      "outputs": []
    },
    {
      "cell_type": "code",
      "source": [
        "plt.plot(x,data)\n",
        "plt.show()"
      ],
      "metadata": {
        "colab": {
          "base_uri": "https://localhost:8080/",
          "height": 269
        },
        "id": "s1q_9WwRXdep",
        "outputId": "8d37c3af-082a-4ecf-8307-2ce6252c76f7"
      },
      "execution_count": null,
      "outputs": [
        {
          "output_type": "display_data",
          "data": {
            "text/plain": [
              "<Figure size 432x288 with 1 Axes>"
            ],
            "image/png": "[encoded data removed]"
          },
          "metadata": {
            "needs_background": "light"
          }
        }
      ]
    },
    {
      "cell_type": "markdown",
      "source": [
        "2. Plot two lists of data points against each other to form an X-Y plot.\n",
        "\n",
        "x = [1, 2, 4, 8, 10]\n",
        "y = [2, 4, 8, 10, 20]"
      ],
      "metadata": {
        "id": "anuxhOsAv5MO"
      }
    },
    {
      "cell_type": "code",
      "source": [
        "import matplotlib.pyplot as plt\n",
        "x = [1, 2, 4, 8, 10]\n",
        "y = [2, 4, 8, 10, 20]"
      ],
      "metadata": {
        "id": "YJ65fdC8v_QK"
      },
      "execution_count": null,
      "outputs": []
    },
    {
      "cell_type": "code",
      "source": [
        "plt.plot(x,y)\n",
        "plt.show()"
      ],
      "metadata": {
        "colab": {
          "base_uri": "https://localhost:8080/",
          "height": 265
        },
        "id": "_8Y168YkYQcM",
        "outputId": "1eba8968-b56e-459f-f8d8-0286207a3dcb"
      },
      "execution_count": null,
      "outputs": [
        {
          "output_type": "display_data",
          "data": {
            "text/plain": [
              "<Figure size 432x288 with 1 Axes>"
            ],
            "image/png": "[encoded data removed]"
          },
          "metadata": {
            "needs_background": "light"
          }
        }
      ]
    },
    {
      "cell_type": "markdown",
      "source": [
        "3. Create a scatter plot of data points, where each point is represented by a\n",
        "coordinate (x, y).\n",
        "\n",
        "\n",
        "x = [1, 2, 3, 4, 5]\n",
        "y = [2, 6, 9, 10, 15]\n"
      ],
      "metadata": {
        "id": "oyE3N7iowANz"
      }
    },
    {
      "cell_type": "code",
      "source": [
        "import matplotlib.pyplot as plt\n",
        "x = [1, 2, 3, 4, 5]\n",
        "y = [2, 6, 9, 10, 15]"
      ],
      "metadata": {
        "id": "7qWQM0uZwIpL"
      },
      "execution_count": null,
      "outputs": []
    },
    {
      "cell_type": "code",
      "source": [
        "plt.scatter(x,y)\n",
        "plt.show"
      ],
      "metadata": {
        "colab": {
          "base_uri": "https://localhost:8080/",
          "height": 283
        },
        "id": "00DY4g-GdRE7",
        "outputId": "b25d2211-7464-47b7-886c-d6608a670742"
      },
      "execution_count": null,
      "outputs": [
        {
          "output_type": "execute_result",
          "data": {
            "text/plain": [
              "<function matplotlib.pyplot.show(close=None, block=None)>"
            ]
          },
          "metadata": {},
          "execution_count": 8
        },
        {
          "output_type": "display_data",
          "data": {
            "text/plain": [
              "<Figure size 432x288 with 1 Axes>"
            ],
            "image/png": "[encoded data removed]"
          },
          "metadata": {
            "needs_background": "light"
          }
        }
      ]
    },
    {
      "cell_type": "code",
      "source": [],
      "metadata": {
        "id": "CE_t01hxZUhZ"
      },
      "execution_count": null,
      "outputs": []
    },
    {
      "cell_type": "markdown",
      "source": [
        "4. Create a bar plot to compare the frequency of items in a list.\n",
        "\n",
        "\n",
        "items = ['A', 'B', 'C', 'D', 'E']\n",
        "freq = [3, 6, 10, 7, 15]\n",
        "\n",
        "Add 3 items with 3 additional frequencies to the graph.\n"
      ],
      "metadata": {
        "id": "c8zY0u2ewOUB"
      }
    },
    {
      "cell_type": "code",
      "source": [
        "import matplotlib.pyplot as plt\n",
        "items = ['A', 'B', 'C', 'D', 'E', 'F', 'G', 'H']\n",
        "freq = [3, 6, 10, 7, 15, 12, 18, 20]"
      ],
      "metadata": {
        "id": "FDS8WKHnwaDl"
      },
      "execution_count": null,
      "outputs": []
    },
    {
      "cell_type": "code",
      "source": [
        "plt.bar(items, freq, color = \"yellow\")\n",
        "plt.show()"
      ],
      "metadata": {
        "colab": {
          "base_uri": "https://localhost:8080/",
          "height": 265
        },
        "id": "OTMT7zPLembx",
        "outputId": "7c9a4320-a232-4a48-a40c-44aac8f9e245"
      },
      "execution_count": null,
      "outputs": [
        {
          "output_type": "display_data",
          "data": {
            "text/plain": [
              "<Figure size 432x288 with 1 Axes>"
            ],
            "image/png": "[encoded data removed]"
          },
          "metadata": {
            "needs_background": "light"
          }
        }
      ]
    },
    {
      "cell_type": "markdown",
      "source": [
        "5. Plot a histogram to visualize the distribution of a list of numerical values.\n",
        "\n",
        "\n",
        "values = [1, 4, 4, 7, 10, 11, 11, 13, 14, 19] and bins=5"
      ],
      "metadata": {
        "id": "3CS8j1KswcmB"
      }
    },
    {
      "cell_type": "code",
      "source": [
        "import matplotlib.pyplot as plt\n",
        "values = [1, 4, 4, 7, 10, 11, 11, 13, 14, 19]\n",
        "bins = 5 "
      ],
      "metadata": {
        "id": "d5wsXxTgwt1X"
      },
      "execution_count": null,
      "outputs": []
    },
    {
      "cell_type": "code",
      "source": [
        "plt.hist(values, bins)\n",
        "plt.show()"
      ],
      "metadata": {
        "colab": {
          "base_uri": "https://localhost:8080/",
          "height": 265
        },
        "id": "wPnb5hkvh3Kp",
        "outputId": "21ef9ffd-5d47-4068-833e-30ed6a23a153"
      },
      "execution_count": null,
      "outputs": [
        {
          "output_type": "display_data",
          "data": {
            "text/plain": [
              "<Figure size 432x288 with 1 Axes>"
            ],
            "image/png": "[encoded data removed]"
          },
          "metadata": {
            "needs_background": "light"
          }
        }
      ]
    },
    {
      "cell_type": "markdown",
      "source": [
        "6. Create a pie chart to represent percentages of various categories within a\n",
        "dataset.\n",
        "\n",
        "labels = ['A', 'B', 'C', 'D']\n",
        "sizes = [10, 20, 30, 40]\n",
        "\n"
      ],
      "metadata": {
        "id": "Qk3r0SOXw6oi"
      }
    },
    {
      "cell_type": "code",
      "source": [
        "import matplotlib.pyplot as plt\n",
        "labels = ['A', 'B', 'C', 'D']\n",
        "sizes = [10, 20, 30, 40]"
      ],
      "metadata": {
        "id": "9LHlrHeAxP_8"
      },
      "execution_count": null,
      "outputs": []
    },
    {
      "cell_type": "code",
      "source": [
        "plt.pie(sizes, labels = ['A', 'B', 'C', 'D'] )\n",
        "plt.show()"
      ],
      "metadata": {
        "colab": {
          "base_uri": "https://localhost:8080/",
          "height": 248
        },
        "id": "6r_rs6G4iP9J",
        "outputId": "729adf76-2cfb-41ef-b231-a33a47c86841"
      },
      "execution_count": null,
      "outputs": [
        {
          "output_type": "display_data",
          "data": {
            "text/plain": [
              "<Figure size 432x288 with 1 Axes>"
            ],
            "image/png": "[encoded data removed]"
          },
          "metadata": {}
        }
      ]
    },
    {
      "cell_type": "markdown",
      "source": [
        "7. Use subplots to display multiple plots in a single figure. For this task, create two line plots and display them side by side.\n",
        "\n",
        "\n",
        "x1 = [1, 2, 3, 4, 5],\n",
        "y1 = [2, 4, 6, 8, 10],\n",
        "x2 = [1, 2, 3, 4, 5] and\n",
        "y2 = [1, 4, 9, 16, 25]\n"
      ],
      "metadata": {
        "id": "wQUyMjLyxOX0"
      }
    },
    {
      "cell_type": "code",
      "source": [
        "import matplotlib.pyplot as plt\n",
        "x1 = [1, 2, 3, 4, 5]\n",
        "y1 = [2, 4, 6, 8, 10]\n",
        "x2 = [1, 2, 3, 4, 5] \n",
        "y2 = [1, 4, 9, 16, 25]\n",
        "fig,(ax1,ax2) = plt.subplots(1,2)\n",
        "ax1.plot(x1, y1, color = \"red\")\n",
        "ax2.plot(x2, y2)\n",
        "plt.show()"
      ],
      "metadata": {
        "id": "tgRYEMXExo82",
        "colab": {
          "base_uri": "https://localhost:8080/",
          "height": 265
        },
        "outputId": "e6dc936f-1bfd-4098-c366-b962f4022d69"
      },
      "execution_count": null,
      "outputs": [
        {
          "output_type": "display_data",
          "data": {
            "text/plain": [
              "<Figure size 432x288 with 2 Axes>"
            ],
            "image/png": "[encoded data removed]"
          },
          "metadata": {
            "needs_background": "light"
          }
        }
      ]
    },
    {
      "cell_type": "markdown",
      "source": [
        "8. Titles and Axis Labels: Supplement a standard X-Y plot with titles and axis labels.\n",
        "\n",
        "x = [1, 2, 3, 4, 5]\n",
        "y = [2, 4, 6, 8, 10]\n"
      ],
      "metadata": {
        "id": "96nbtqIxxOE2"
      }
    },
    {
      "cell_type": "code",
      "source": [
        "import matplotlib.pyplot as plt\n",
        "x = [1, 2, 3, 4, 5]\n",
        "y = [2, 4, 6, 8, 10]\n",
        "plt.plot(x, label = 'first')\n",
        "plt.plot(y, label = 'second')\n",
        "plt.show()"
      ],
      "metadata": {
        "id": "g98qq0a96AB_",
        "colab": {
          "base_uri": "https://localhost:8080/",
          "height": 265
        },
        "outputId": "ca963748-59b0-4f94-a36d-ec2660c8500b"
      },
      "execution_count": null,
      "outputs": [
        {
          "output_type": "display_data",
          "data": {
            "text/plain": [
              "<Figure size 432x288 with 1 Axes>"
            ],
            "image/png": "[encoded data removed]"
          },
          "metadata": {
            "needs_background": "light"
          }
        }
      ]
    },
    {
      "cell_type": "markdown",
      "source": [
        "9. Create a plot with multiple lines or datasets and add a legend to differentiate them.\n",
        "\n",
        "\n",
        "x = [1, 2, 3, 4, 5],\n",
        "y1 = [2, 4, 6, 8, 10], \n",
        "y2 = [1, 4, 9, 16, 25]"
      ],
      "metadata": {
        "id": "n5isBL7axN7L"
      }
    },
    {
      "cell_type": "code",
      "source": [
        "x = [1, 2, 3, 4, 5]\n",
        "y1 = [2, 4, 6, 8, 10]\n",
        "y2 = [1, 4, 9, 16, 25]\n",
        "plt.plot(x, y1, label='red')\n",
        "plt.plot(x,y2, label='blue')\n",
        "plt.legend()\n",
        "plt.show()"
      ],
      "metadata": {
        "id": "dExD4LTIx65y",
        "colab": {
          "base_uri": "https://localhost:8080/",
          "height": 265
        },
        "outputId": "a04c3de4-0cd1-41d6-e167-b4260b2a3942"
      },
      "execution_count": null,
      "outputs": [
        {
          "output_type": "display_data",
          "data": {
            "text/plain": [
              "<Figure size 432x288 with 1 Axes>"
            ],
            "image/png": "[encoded data removed]"
          },
          "metadata": {
            "needs_background": "light"
          }
        }
      ]
    },
    {
      "cell_type": "markdown",
      "source": [
        "10. Save Plot as Image File: After creating an X-Y plot, save the resulting graph as an image file."
      ],
      "metadata": {
        "id": "yph36eABxNp4"
      }
    },
    {
      "cell_type": "code",
      "source": [
        "x = [1, 2, 3, 4, 5]\n",
        "y = [2, 4, 6, 8, 10]\n",
        "plt.plot(x,y)\n",
        "plt.savefig('xy_plot.png')"
      ],
      "metadata": {
        "id": "sjwecl6MwHwc",
        "colab": {
          "base_uri": "https://localhost:8080/",
          "height": 265
        },
        "outputId": "350f8ea4-5f67-46e4-fd78-3cc842a28ae1"
      },
      "execution_count": null,
      "outputs": [
        {
          "output_type": "display_data",
          "data": {
            "text/plain": [
              "<Figure size 432x288 with 1 Axes>"
            ],
            "image/png": "[encoded data removed]"
          },
          "metadata": {
            "needs_background": "light"
          }
        }
      ]
    },
    {
      "cell_type": "markdown",
      "source": [
        "##**Home Assignment:**"
      ],
      "metadata": {
        "id": "au9BqP0E6QOs"
      }
    },
    {
      "cell_type": "markdown",
      "source": [
        "1. Create a simple plot of sin(x). Using Numpy linspace to generate values of x and numpy sin(x) to generate y."
      ],
      "metadata": {
        "id": "6BItwPOX6dpO"
      }
    },
    {
      "cell_type": "code",
      "source": [],
      "metadata": {
        "id": "WT8vA16g6dU5"
      },
      "execution_count": null,
      "outputs": []
    },
    {
      "cell_type": "markdown",
      "source": [
        "2. Create a pie-chart from data below: \n",
        "\n",
        "Labels: Comedy,\tAction,\tRomance,\tDrama,\tSciFi\n",
        "\n",
        "\n",
        "Data : 4,\t5,\t6,\t1,\t4"
      ],
      "metadata": {
        "id": "0RQYrb7x6kHA"
      }
    },
    {
      "cell_type": "code",
      "source": [],
      "metadata": {
        "id": "IKVV92hR6ZH6"
      },
      "execution_count": null,
      "outputs": []
    },
    {
      "cell_type": "markdown",
      "source": [
        "3. Create a scatter plot from kaggle.com covid -19 file as csv\n"
      ],
      "metadata": {
        "id": "AvIPDfzzDNFM"
      }
    },
    {
      "cell_type": "code",
      "source": [],
      "metadata": {
        "id": "tfk8QQKPFbBb"
      },
      "execution_count": null,
      "outputs": []
    }
  ]
}